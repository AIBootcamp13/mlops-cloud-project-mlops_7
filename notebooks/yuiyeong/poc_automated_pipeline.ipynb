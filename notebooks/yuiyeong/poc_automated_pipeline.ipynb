{
 "cells": [
  {
   "cell_type": "markdown",
   "id": "c86372f1b965adb5",
   "metadata": {},
   "source": "# Notebook 기본 세팅"
  },
  {
   "cell_type": "code",
   "execution_count": 1,
   "id": "3bbee03e090649db",
   "metadata": {
    "ExecuteTime": {
     "end_time": "2025-06-05T14:18:48.308927Z",
     "start_time": "2025-06-05T14:18:48.303602Z"
    }
   },
   "outputs": [],
   "source": [
    "# Constant 선언\n",
    "\n",
    "# 프로젝트 루트 디렉토리를 식별하기 위한 마커 파일 이름\n",
    "ROOT_MARKER = \"pyproject.toml\"\n",
    "\n",
    "# 한글 표시를 위한 나눔바른고딕 폰트 파일 이름\n",
    "# matplotlib 의 font_manager 에 실제 폰트 파일의 위치를 넣어주어야 한다.\n",
    "KOREAN_FONT_FILE = \"NanumBarunGothic.ttf\"\n",
    "\n",
    "# matplotlib 에서는 font-family 의 이름으로 font 를 설정한다.\n",
    "# 그래서 font 파일 그 자체가 아니라, 그 파일의 family 이름을 적어준다.\n",
    "KOREAN_FONT_FAMILY = \"NanumBarunGothic\"\n",
    "\n",
    "# 참고\n",
    "# Font Family 와 Font File 의 차이는,\n",
    "# Font Family 는 비슷한 디자인 특성을 공유하는 글꼴 그룹을 의미한다.\n",
    "#\n",
    "# 예를 들어 '나눔바른고딕' 폰트 패밀리는 일반(Regular), 굵게(Bold), 기울임(Italic) 등 여러 스타일을 포함할 수 있다.\n",
    "# 반면, 폰트 파일(.ttf, .otf 등)은 이러한 폰트의 하나의 스타일이 저장된 실제 파일이다.\n",
    "#\n",
    "# 이 프로젝트에서는 폰트 용량을 줄이기 위해 일반(Regular) 인 NanumBarunGothic.ttf 만 사용한다."
   ]
  },
  {
   "cell_type": "code",
   "execution_count": 2,
   "id": "93f2746669fe3b0b",
   "metadata": {
    "ExecuteTime": {
     "end_time": "2025-06-05T14:18:48.386578Z",
     "start_time": "2025-06-05T14:18:48.384426Z"
    }
   },
   "outputs": [],
   "source": [
    "# 프로젝트 root 를 sys.path 에 추가해서 import 구문을 사용하기 쉽게\n",
    "from pathlib import Path\n",
    "\n",
    "\n",
    "def find_project_root() -> Path:\n",
    "    \"\"\"\n",
    "    pyproject.toml 파일을 기준으로 루트 디렉토리를 찾는다.\n",
    "    :return: Path: 프로젝트 루트 디렉토리 경로\n",
    "    \"\"\"\n",
    "\n",
    "    current_path = Path().resolve()\n",
    "\n",
    "    while current_path != current_path.parent:\n",
    "        if (current_path / ROOT_MARKER).exists():\n",
    "            return current_path\n",
    "\n",
    "        current_path = current_path.parent\n",
    "\n",
    "    raise FileNotFoundError(\"프로젝트 루트 디렉토리를 찾을 수 없습니다.\")\n",
    "\n",
    "\n",
    "ROOT_DIR = find_project_root()"
   ]
  },
  {
   "cell_type": "code",
   "execution_count": 3,
   "id": "9b2102dd84f4bdc1",
   "metadata": {
    "ExecuteTime": {
     "end_time": "2025-06-05T14:18:48.619379Z",
     "start_time": "2025-06-05T14:18:48.392352Z"
    }
   },
   "outputs": [],
   "source": [
    "# matplotlib 의 한글 font 설정\n",
    "import matplotlib.font_manager as fm\n",
    "import matplotlib.pyplot as plt\n",
    "\n",
    "\n",
    "FONTS_DATA_DIR = ROOT_DIR / \"notebooks\" / \"fonts\"\n",
    "\n",
    "\n",
    "def setup_korean_font():\n",
    "    font_path = FONTS_DATA_DIR / KOREAN_FONT_FILE\n",
    "    fm.fontManager.addfont(font_path)\n",
    "\n",
    "    # 폰트 설정\n",
    "    plt.rcParams[\"font.family\"] = KOREAN_FONT_FAMILY\n",
    "    plt.rcParams[\"axes.unicode_minus\"] = False\n",
    "\n",
    "\n",
    "setup_korean_font()"
   ]
  },
  {
   "cell_type": "markdown",
   "id": "bac8d04607dc6327",
   "metadata": {},
   "source": [
    "# Automated Pipeline 에 필요한 함수들 구현해보기\n",
    "\n",
    "- data 준비\n",
    "- wandb 통합\n",
    "- 여러 모델 학습 가능하도록 하기\n",
    "- 학습된 모델 평가 지표 뽑기\n",
    "- 학습된 모델 평가하기\n",
    "- 최종 모델 선택하기"
   ]
  },
  {
   "cell_type": "markdown",
   "id": "7ad73233b85deaf9",
   "metadata": {},
   "source": "## Dataset 준비"
  },
  {
   "cell_type": "code",
   "execution_count": 4,
   "id": "e123ae8b9b0001cf",
   "metadata": {
    "ExecuteTime": {
     "end_time": "2025-06-05T14:18:49.345230Z",
     "start_time": "2025-06-05T14:18:48.624750Z"
    }
   },
   "outputs": [],
   "source": [
    "from sklearn.model_selection import train_test_split\n",
    "\n",
    "\n",
    "FEATURE_DATASET_STORAGE_KEY = \"features/20250531-41872183-2035-4ee9-9dc0-fae636081fb8/weather-features.csv\"\n",
    "TARGET_COLUMN = \"weather\"\n",
    "\n",
    "\n",
    "def prepare_data(random_state: int) -> dict[str, str]:\n",
    "    \"\"\"\n",
    "    dataset 을 훈련(60%), 검증(20%), 테스트(20%)로 나눠서\n",
    "    Cloud Storage 에 저장하고, 그 key 들을 반환\n",
    "    \"\"\"\n",
    "    import uuid\n",
    "    from pathlib import Path\n",
    "\n",
    "    from src.libs.storage import Storage\n",
    "\n",
    "    storage = Storage.create()\n",
    "    features = storage.read_as_dataframe(FEATURE_DATASET_STORAGE_KEY)\n",
    "\n",
    "    x = features.drop(TARGET_COLUMN, axis=1)\n",
    "    y = features[TARGET_COLUMN]\n",
    "\n",
    "    # 1단계: 데이터를 훈련 + 검증 세트와 테스트 세트로 분할 (80% 대 20%)\n",
    "    train_val_x, test_x, train_val_y, test_y = train_test_split(x, y, test_size=0.2, random_state=random_state)\n",
    "\n",
    "    # 2단계: 훈련 + 검증 세트를 훈련 세트와 검증 세트로 분할 (75% 대 25%)\n",
    "    train_x, val_x, train_y, val_y = train_test_split(\n",
    "        train_val_x, train_val_y, test_size=0.25, random_state=random_state\n",
    "    )\n",
    "\n",
    "    # 최종적으로, 원래 데이터의 60% 가 훈련 세트, 20% 가 검증 세트, 20% 가 테스트 세트\n",
    "    dfs = {\n",
    "        \"train_x\": train_x,\n",
    "        \"val_x\": val_x,\n",
    "        \"test_x\": test_x,\n",
    "        \"train_y\": train_y,\n",
    "        \"val_y\": val_y,\n",
    "        \"test_y\": test_y,\n",
    "    }\n",
    "    result = {}\n",
    "    sub_directory = f\"{Path(FEATURE_DATASET_STORAGE_KEY).parent.name}/split-{uuid.uuid4()}\"\n",
    "    for dataset_name, df in dfs.items():\n",
    "        storage_key = storage.upload_feature_df(df, filename=dataset_name, sub_directory=sub_directory)\n",
    "        result[dataset_name] = storage_key\n",
    "    return result"
   ]
  },
  {
   "cell_type": "code",
   "execution_count": 5,
   "id": "32217e7ed2035f47",
   "metadata": {
    "ExecuteTime": {
     "end_time": "2025-06-05T14:18:52.664987Z",
     "start_time": "2025-06-05T14:18:49.350798Z"
    }
   },
   "outputs": [
    {
     "name": "stderr",
     "output_type": "stream",
     "text": [
      "[2025-06-05 23:18:49] INFO [src.libs.storage._check_and_log_response] Success to read features/20250531-41872183-2035-4ee9-9dc0-fae636081fb8/weather-features.csv\n",
      "[2025-06-05 23:18:51] INFO [src.libs.storage._check_and_log_response] Success to upload features/20250531-41872183-2035-4ee9-9dc0-fae636081fb8/split-db42ad24-04a9-4a97-a474-09eb5adc2516/train_x.csv\n",
      "[2025-06-05 23:18:51] INFO [src.libs.storage._check_and_log_response] Success to upload features/20250531-41872183-2035-4ee9-9dc0-fae636081fb8/split-db42ad24-04a9-4a97-a474-09eb5adc2516/val_x.csv\n",
      "[2025-06-05 23:18:52] INFO [src.libs.storage._check_and_log_response] Success to upload features/20250531-41872183-2035-4ee9-9dc0-fae636081fb8/split-db42ad24-04a9-4a97-a474-09eb5adc2516/test_x.csv\n",
      "[2025-06-05 23:18:52] INFO [src.libs.storage._check_and_log_response] Success to upload features/20250531-41872183-2035-4ee9-9dc0-fae636081fb8/split-db42ad24-04a9-4a97-a474-09eb5adc2516/train_y.csv\n",
      "[2025-06-05 23:18:52] INFO [src.libs.storage._check_and_log_response] Success to upload features/20250531-41872183-2035-4ee9-9dc0-fae636081fb8/split-db42ad24-04a9-4a97-a474-09eb5adc2516/val_y.csv\n",
      "[2025-06-05 23:18:52] INFO [src.libs.storage._check_and_log_response] Success to upload features/20250531-41872183-2035-4ee9-9dc0-fae636081fb8/split-db42ad24-04a9-4a97-a474-09eb5adc2516/test_y.csv\n"
     ]
    },
    {
     "data": {
      "text/plain": [
       "{'train_x': 'features/20250531-41872183-2035-4ee9-9dc0-fae636081fb8/split-db42ad24-04a9-4a97-a474-09eb5adc2516/train_x.csv',\n",
       " 'val_x': 'features/20250531-41872183-2035-4ee9-9dc0-fae636081fb8/split-db42ad24-04a9-4a97-a474-09eb5adc2516/val_x.csv',\n",
       " 'test_x': 'features/20250531-41872183-2035-4ee9-9dc0-fae636081fb8/split-db42ad24-04a9-4a97-a474-09eb5adc2516/test_x.csv',\n",
       " 'train_y': 'features/20250531-41872183-2035-4ee9-9dc0-fae636081fb8/split-db42ad24-04a9-4a97-a474-09eb5adc2516/train_y.csv',\n",
       " 'val_y': 'features/20250531-41872183-2035-4ee9-9dc0-fae636081fb8/split-db42ad24-04a9-4a97-a474-09eb5adc2516/val_y.csv',\n",
       " 'test_y': 'features/20250531-41872183-2035-4ee9-9dc0-fae636081fb8/split-db42ad24-04a9-4a97-a474-09eb5adc2516/test_y.csv'}"
      ]
     },
     "execution_count": 5,
     "metadata": {},
     "output_type": "execute_result"
    }
   ],
   "source": [
    "dataset_keys = prepare_data(random_state=42)\n",
    "dataset_keys"
   ]
  },
  {
   "cell_type": "markdown",
   "id": "219efa19a51cae9",
   "metadata": {},
   "source": "## weights & biases 의 api 사용해보기"
  },
  {
   "cell_type": "code",
   "execution_count": 6,
   "id": "c10f8051177266fc",
   "metadata": {
    "ExecuteTime": {
     "end_time": "2025-06-05T14:18:53.890499Z",
     "start_time": "2025-06-05T14:18:52.677413Z"
    }
   },
   "outputs": [],
   "source": [
    "from src.evaluation.metrics import evaluate_model\n",
    "from src.libs.storage import Storage\n",
    "from src.models.random_forest import RandomForestModel\n",
    "from src.tracker.wandb import WandbTracker\n",
    "\n",
    "\n",
    "def poc_wandb():\n",
    "    storage = Storage.create()\n",
    "    tracker = WandbTracker.create()\n",
    "\n",
    "    train_x = storage.read_as_dataframe(dataset_keys[\"train_x\"])\n",
    "    train_y = storage.read_as_dataframe(dataset_keys[\"train_y\"])\n",
    "    val_x = storage.read_as_dataframe(dataset_keys[\"val_x\"])\n",
    "    val_y = storage.read_as_dataframe(dataset_keys[\"val_y\"])\n",
    "\n",
    "    model_params = RandomForestModel.default_params()\n",
    "\n",
    "    tracker.start_experiment(\n",
    "        experiment_name=\"train-as-random-forest\", params=model_params, job_type=\"training\", tags=[\"weather\"]\n",
    "    )\n",
    "    model = RandomForestModel(model_params)\n",
    "    model.fit(train_x, train_y)\n",
    "\n",
    "    pred_y = model.predict(val_x)\n",
    "    metrics = evaluate_model(val_y, pred_y)\n",
    "\n",
    "    tracker.log_metrics(metrics)\n",
    "\n",
    "    dataset_metadata = {\"storage\": {\"name\": \"ncloud\", \"bucket\": storage.bucket, \"dataset_keys\": dataset_keys}}\n",
    "    model_ref = tracker.register_model(\n",
    "        model,\n",
    "        model_name=\"random-forest\",\n",
    "        metadata={\n",
    "            \"framework\": \"sklearn\",\n",
    "            \"params\": model_params,\n",
    "            \"dataset\": dataset_metadata,\n",
    "            \"metrics\": metrics,\n",
    "        },\n",
    "    )\n",
    "    tracker.end_experiment()\n",
    "    return model_ref"
   ]
  },
  {
   "cell_type": "markdown",
   "id": "8cc9171bcb77095c",
   "metadata": {},
   "source": "## train 용 함수 만들기"
  },
  {
   "cell_type": "code",
   "execution_count": 7,
   "id": "76ab66960a87deb1",
   "metadata": {
    "ExecuteTime": {
     "end_time": "2025-06-05T14:18:53.898564Z",
     "start_time": "2025-06-05T14:18:53.895971Z"
    }
   },
   "outputs": [],
   "source": [
    "def train(train_x_key: str, train_y_key: str, experiment_name: str) -> tuple[str, str]:\n",
    "    from src.libs.storage import Storage\n",
    "    from src.models.random_forest import RandomForestModel\n",
    "    from src.tracker.wandb import WandbTracker\n",
    "\n",
    "    storage = Storage.create()\n",
    "    train_x = storage.read_as_dataframe(train_x_key)\n",
    "    train_y = storage.read_as_dataframe(train_y_key).to_numpy().ravel()\n",
    "\n",
    "    tracker = WandbTracker.create()\n",
    "    model_params = RandomForestModel.default_params()\n",
    "\n",
    "    tracker.start_experiment(\n",
    "        experiment_name=experiment_name,\n",
    "        params=model_params,\n",
    "        job_type=\"training\",\n",
    "    )\n",
    "    run_id = tracker.get_run_id()\n",
    "\n",
    "    model = RandomForestModel(model_params)\n",
    "    model.fit(train_x, train_y)\n",
    "\n",
    "    model_reference = tracker.register_model(\n",
    "        model,\n",
    "        model_name=\"random-forest\",\n",
    "        metadata={\n",
    "            \"framework\": \"sklearn\",\n",
    "            \"datasets\": {\n",
    "                \"storage\": {\n",
    "                    \"name\": \"ncloud\",\n",
    "                    \"bucket\": storage.bucket,\n",
    "                    \"train_x\": train_x_key,\n",
    "                    \"train_y\": train_y_key,\n",
    "                }\n",
    "            },\n",
    "            \"params\": model_params,\n",
    "        },\n",
    "    )\n",
    "\n",
    "    tracker.end_experiment()\n",
    "    return run_id, model_reference"
   ]
  },
  {
   "cell_type": "code",
   "execution_count": 8,
   "id": "985046634b5c8d79",
   "metadata": {
    "ExecuteTime": {
     "end_time": "2025-06-05T14:19:04.412521Z",
     "start_time": "2025-06-05T14:18:53.903619Z"
    }
   },
   "outputs": [
    {
     "name": "stderr",
     "output_type": "stream",
     "text": [
      "[2025-06-05 23:18:53] INFO [src.libs.storage._check_and_log_response] Success to read features/20250531-41872183-2035-4ee9-9dc0-fae636081fb8/split-db42ad24-04a9-4a97-a474-09eb5adc2516/train_x.csv\n",
      "[2025-06-05 23:18:54] INFO [src.libs.storage._check_and_log_response] Success to read features/20250531-41872183-2035-4ee9-9dc0-fae636081fb8/split-db42ad24-04a9-4a97-a474-09eb5adc2516/train_y.csv\n",
      "\u001b[34m\u001b[1mwandb\u001b[0m: \u001b[33mWARNING\u001b[0m If you're specifying your api key in code, ensure this code is not shared publicly.\n",
      "\u001b[34m\u001b[1mwandb\u001b[0m: \u001b[33mWARNING\u001b[0m Consider setting the WANDB_API_KEY environment variable, or running `wandb login` from the command line.\n",
      "\u001b[34m\u001b[1mwandb\u001b[0m: Appending key for api.wandb.ai to your netrc file: /Users/joyuiyeong/.netrc\n",
      "\u001b[34m\u001b[1mwandb\u001b[0m: Currently logged in as: \u001b[33mjoyuiyeong\u001b[0m (\u001b[33mjandar-tech\u001b[0m) to \u001b[32mhttps://api.wandb.ai\u001b[0m. Use \u001b[1m`wandb login --relogin`\u001b[0m to force relogin\n"
     ]
    },
    {
     "data": {
      "text/html": [
       "Tracking run with wandb version 0.19.11"
      ],
      "text/plain": [
       "<IPython.core.display.HTML object>"
      ]
     },
     "metadata": {},
     "output_type": "display_data"
    },
    {
     "data": {
      "text/html": [
       "Run data is saved locally in <code>/Users/joyuiyeong/projects/mlops-cloud-project-mlops_7/notebooks/yuiyeong/wandb/run-20250605_231855-qgrnpnp9</code>"
      ],
      "text/plain": [
       "<IPython.core.display.HTML object>"
      ]
     },
     "metadata": {},
     "output_type": "display_data"
    },
    {
     "data": {
      "text/html": [
       "Syncing run <strong><a href='https://wandb.ai/jandar-tech/ml-ops-practice/runs/qgrnpnp9' target=\"_blank\">random-forest-default-params</a></strong> to <a href='https://wandb.ai/jandar-tech/ml-ops-practice' target=\"_blank\">Weights & Biases</a> (<a href='https://wandb.me/developer-guide' target=\"_blank\">docs</a>)<br>"
      ],
      "text/plain": [
       "<IPython.core.display.HTML object>"
      ]
     },
     "metadata": {},
     "output_type": "display_data"
    },
    {
     "data": {
      "text/html": [
       " View project at <a href='https://wandb.ai/jandar-tech/ml-ops-practice' target=\"_blank\">https://wandb.ai/jandar-tech/ml-ops-practice</a>"
      ],
      "text/plain": [
       "<IPython.core.display.HTML object>"
      ]
     },
     "metadata": {},
     "output_type": "display_data"
    },
    {
     "data": {
      "text/html": [
       " View run at <a href='https://wandb.ai/jandar-tech/ml-ops-practice/runs/qgrnpnp9' target=\"_blank\">https://wandb.ai/jandar-tech/ml-ops-practice/runs/qgrnpnp9</a>"
      ],
      "text/plain": [
       "<IPython.core.display.HTML object>"
      ]
     },
     "metadata": {},
     "output_type": "display_data"
    },
    {
     "data": {
      "text/html": [],
      "text/plain": [
       "<IPython.core.display.HTML object>"
      ]
     },
     "metadata": {},
     "output_type": "display_data"
    },
    {
     "data": {
      "text/html": [
       " View run <strong style=\"color:#cdcd00\">random-forest-default-params</strong> at: <a href='https://wandb.ai/jandar-tech/ml-ops-practice/runs/qgrnpnp9' target=\"_blank\">https://wandb.ai/jandar-tech/ml-ops-practice/runs/qgrnpnp9</a><br> View project at: <a href='https://wandb.ai/jandar-tech/ml-ops-practice' target=\"_blank\">https://wandb.ai/jandar-tech/ml-ops-practice</a><br>Synced 5 W&B file(s), 0 media file(s), 2 artifact file(s) and 0 other file(s)"
      ],
      "text/plain": [
       "<IPython.core.display.HTML object>"
      ]
     },
     "metadata": {},
     "output_type": "display_data"
    },
    {
     "data": {
      "text/html": [
       "Find logs at: <code>./wandb/run-20250605_231855-qgrnpnp9/logs</code>"
      ],
      "text/plain": [
       "<IPython.core.display.HTML object>"
      ]
     },
     "metadata": {},
     "output_type": "display_data"
    },
    {
     "data": {
      "text/plain": [
       "('qgrnpnp9', 'random-forest:v5')"
      ]
     },
     "execution_count": 8,
     "metadata": {},
     "output_type": "execute_result"
    }
   ],
   "source": [
    "wandb_run_id, model_artifact_ref = train(\n",
    "    dataset_keys[\"train_x\"], dataset_keys[\"train_y\"], \"random-forest-default-params\"\n",
    ")\n",
    "wandb_run_id, model_artifact_ref"
   ]
  },
  {
   "cell_type": "markdown",
   "id": "3bac910a665ce151",
   "metadata": {},
   "source": "## evaluate 용 함수 만들기"
  },
  {
   "cell_type": "code",
   "execution_count": 9,
   "id": "4f78780a94402072",
   "metadata": {
    "ExecuteTime": {
     "end_time": "2025-06-05T14:19:04.430548Z",
     "start_time": "2025-06-05T14:19:04.427520Z"
    }
   },
   "outputs": [],
   "source": [
    "def evaluate(val_x_key: str, val_y_key: str, run_id: str, model_ref: str) -> tuple[str, str]:\n",
    "    from src.evaluation.metrics import evaluate_model\n",
    "    from src.libs.storage import Storage\n",
    "    from src.tracker.wandb import WandbTracker\n",
    "\n",
    "    storage = Storage.create()\n",
    "    val_x = storage.read_as_dataframe(val_x_key)\n",
    "    val_y = storage.read_as_dataframe(val_y_key).to_numpy().ravel()\n",
    "\n",
    "    tracker = WandbTracker.create()\n",
    "    tracker.resume_experiment(run_id, job_type=\"evaluation\")\n",
    "\n",
    "    model = tracker.load_model(model_ref)\n",
    "    pred_y = model.predict(val_x)\n",
    "    metrics = evaluate_model(val_y, pred_y)\n",
    "\n",
    "    tracker.log_metrics(metrics)\n",
    "\n",
    "    tracker.end_experiment()\n",
    "\n",
    "    return run_id, model_ref"
   ]
  },
  {
   "cell_type": "code",
   "execution_count": 10,
   "id": "39147e5f15186517",
   "metadata": {
    "ExecuteTime": {
     "end_time": "2025-06-05T14:19:09.355307Z",
     "start_time": "2025-06-05T14:19:04.445520Z"
    }
   },
   "outputs": [
    {
     "name": "stderr",
     "output_type": "stream",
     "text": [
      "[2025-06-05 23:19:04] INFO [src.libs.storage._check_and_log_response] Success to read features/20250531-41872183-2035-4ee9-9dc0-fae636081fb8/split-db42ad24-04a9-4a97-a474-09eb5adc2516/val_x.csv\n",
      "[2025-06-05 23:19:04] INFO [src.libs.storage._check_and_log_response] Success to read features/20250531-41872183-2035-4ee9-9dc0-fae636081fb8/split-db42ad24-04a9-4a97-a474-09eb5adc2516/val_y.csv\n"
     ]
    },
    {
     "data": {
      "text/html": [
       "Tracking run with wandb version 0.19.11"
      ],
      "text/plain": [
       "<IPython.core.display.HTML object>"
      ]
     },
     "metadata": {},
     "output_type": "display_data"
    },
    {
     "data": {
      "text/html": [
       "Run data is saved locally in <code>/Users/joyuiyeong/projects/mlops-cloud-project-mlops_7/notebooks/yuiyeong/wandb/run-20250605_231904-qgrnpnp9</code>"
      ],
      "text/plain": [
       "<IPython.core.display.HTML object>"
      ]
     },
     "metadata": {},
     "output_type": "display_data"
    },
    {
     "data": {
      "text/html": [
       "Resuming run <strong><a href='https://wandb.ai/jandar-tech/ml-ops-practice/runs/qgrnpnp9' target=\"_blank\">random-forest-default-params</a></strong> to <a href='https://wandb.ai/jandar-tech/ml-ops-practice' target=\"_blank\">Weights & Biases</a> (<a href='https://wandb.me/developer-guide' target=\"_blank\">docs</a>)<br>"
      ],
      "text/plain": [
       "<IPython.core.display.HTML object>"
      ]
     },
     "metadata": {},
     "output_type": "display_data"
    },
    {
     "data": {
      "text/html": [
       " View project at <a href='https://wandb.ai/jandar-tech/ml-ops-practice' target=\"_blank\">https://wandb.ai/jandar-tech/ml-ops-practice</a>"
      ],
      "text/plain": [
       "<IPython.core.display.HTML object>"
      ]
     },
     "metadata": {},
     "output_type": "display_data"
    },
    {
     "data": {
      "text/html": [
       " View run at <a href='https://wandb.ai/jandar-tech/ml-ops-practice/runs/qgrnpnp9' target=\"_blank\">https://wandb.ai/jandar-tech/ml-ops-practice/runs/qgrnpnp9</a>"
      ],
      "text/plain": [
       "<IPython.core.display.HTML object>"
      ]
     },
     "metadata": {},
     "output_type": "display_data"
    },
    {
     "name": "stderr",
     "output_type": "stream",
     "text": [
      "\u001b[34m\u001b[1mwandb\u001b[0m:   1 of 1 files downloaded.  \n"
     ]
    },
    {
     "data": {
      "text/html": [],
      "text/plain": [
       "<IPython.core.display.HTML object>"
      ]
     },
     "metadata": {},
     "output_type": "display_data"
    },
    {
     "data": {
      "text/html": [
       "<br>    <style><br>        .wandb-row {<br>            display: flex;<br>            flex-direction: row;<br>            flex-wrap: wrap;<br>            justify-content: flex-start;<br>            width: 100%;<br>        }<br>        .wandb-col {<br>            display: flex;<br>            flex-direction: column;<br>            flex-basis: 100%;<br>            flex: 1;<br>            padding: 10px;<br>        }<br>    </style><br><div class=\"wandb-row\"><div class=\"wandb-col\"><h3>Run history:</h3><br/><table class=\"wandb\"><tr><td>mae</td><td>▁</td></tr><tr><td>r2</td><td>▁</td></tr><tr><td>rmse</td><td>▁</td></tr></table><br/></div><div class=\"wandb-col\"><h3>Run summary:</h3><br/><table class=\"wandb\"><tr><td>mae</td><td>0.03055</td></tr><tr><td>r2</td><td>0.99623</td></tr><tr><td>rmse</td><td>0.06381</td></tr></table><br/></div></div>"
      ],
      "text/plain": [
       "<IPython.core.display.HTML object>"
      ]
     },
     "metadata": {},
     "output_type": "display_data"
    },
    {
     "data": {
      "text/html": [
       " View run <strong style=\"color:#cdcd00\">random-forest-default-params</strong> at: <a href='https://wandb.ai/jandar-tech/ml-ops-practice/runs/qgrnpnp9' target=\"_blank\">https://wandb.ai/jandar-tech/ml-ops-practice/runs/qgrnpnp9</a><br> View project at: <a href='https://wandb.ai/jandar-tech/ml-ops-practice' target=\"_blank\">https://wandb.ai/jandar-tech/ml-ops-practice</a><br>Synced 5 W&B file(s), 0 media file(s), 0 artifact file(s) and 0 other file(s)"
      ],
      "text/plain": [
       "<IPython.core.display.HTML object>"
      ]
     },
     "metadata": {},
     "output_type": "display_data"
    },
    {
     "data": {
      "text/html": [
       "Find logs at: <code>./wandb/run-20250605_231904-qgrnpnp9/logs</code>"
      ],
      "text/plain": [
       "<IPython.core.display.HTML object>"
      ]
     },
     "metadata": {},
     "output_type": "display_data"
    },
    {
     "data": {
      "text/plain": [
       "('qgrnpnp9', 'random-forest:v5')"
      ]
     },
     "execution_count": 10,
     "metadata": {},
     "output_type": "execute_result"
    }
   ],
   "source": [
    "wandb_run_id, model_artifact_ref = evaluate(\n",
    "    dataset_keys[\"val_x\"],\n",
    "    dataset_keys[\"val_y\"],\n",
    "    wandb_run_id,\n",
    "    model_artifact_ref,\n",
    ")\n",
    "wandb_run_id, model_artifact_ref"
   ]
  },
  {
   "cell_type": "markdown",
   "id": "2bfbdb75fbab0857",
   "metadata": {},
   "source": "## test 용 함수 만들기"
  },
  {
   "cell_type": "code",
   "execution_count": 11,
   "id": "3cb79d1465d5b105",
   "metadata": {
    "ExecuteTime": {
     "end_time": "2025-06-05T14:19:09.376778Z",
     "start_time": "2025-06-05T14:19:09.373326Z"
    }
   },
   "outputs": [],
   "source": [
    "def test(test_x_key: str, test_y_key: str, run_id: str, model_ref: str) -> tuple[str, str]:\n",
    "    from src.evaluation.metrics import evaluate_model\n",
    "    from src.libs.storage import Storage\n",
    "    from src.tracker.wandb import WandbTracker\n",
    "\n",
    "    storage = Storage.create()\n",
    "    test_x = storage.read_as_dataframe(test_x_key)\n",
    "    test_y = storage.read_as_dataframe(test_y_key).to_numpy().ravel()\n",
    "\n",
    "    tracker = WandbTracker.create()\n",
    "    tracker.resume_experiment(run_id, job_type=\"test\")\n",
    "\n",
    "    model = tracker.load_model(model_ref)\n",
    "\n",
    "    pred_y = model.predict(test_x)\n",
    "    metrics = evaluate_model(test_y, pred_y)\n",
    "    tracker.log_metrics(metrics)\n",
    "\n",
    "    tracker.end_experiment()\n",
    "    return run_id, model_ref"
   ]
  },
  {
   "cell_type": "code",
   "execution_count": 12,
   "id": "6f16daef4511e8c7",
   "metadata": {
    "ExecuteTime": {
     "end_time": "2025-06-05T14:20:05.266170Z",
     "start_time": "2025-06-05T14:19:59.652111Z"
    }
   },
   "outputs": [
    {
     "name": "stderr",
     "output_type": "stream",
     "text": [
      "[2025-06-05 23:19:59] INFO [src.libs.storage._check_and_log_response] Success to read features/20250531-41872183-2035-4ee9-9dc0-fae636081fb8/split-db42ad24-04a9-4a97-a474-09eb5adc2516/test_x.csv\n",
      "[2025-06-05 23:19:59] INFO [src.libs.storage._check_and_log_response] Success to read features/20250531-41872183-2035-4ee9-9dc0-fae636081fb8/split-db42ad24-04a9-4a97-a474-09eb5adc2516/test_y.csv\n"
     ]
    },
    {
     "data": {
      "text/html": [
       "creating run (0.1s)"
      ],
      "text/plain": [
       "<IPython.core.display.HTML object>"
      ]
     },
     "metadata": {},
     "output_type": "display_data"
    },
    {
     "data": {
      "text/html": [
       "Tracking run with wandb version 0.19.11"
      ],
      "text/plain": [
       "<IPython.core.display.HTML object>"
      ]
     },
     "metadata": {},
     "output_type": "display_data"
    },
    {
     "data": {
      "text/html": [
       "Run data is saved locally in <code>/Users/joyuiyeong/projects/mlops-cloud-project-mlops_7/notebooks/yuiyeong/wandb/run-20250605_231959-qgrnpnp9</code>"
      ],
      "text/plain": [
       "<IPython.core.display.HTML object>"
      ]
     },
     "metadata": {},
     "output_type": "display_data"
    },
    {
     "data": {
      "text/html": [
       "Resuming run <strong><a href='https://wandb.ai/jandar-tech/ml-ops-practice/runs/qgrnpnp9' target=\"_blank\">random-forest-default-params</a></strong> to <a href='https://wandb.ai/jandar-tech/ml-ops-practice' target=\"_blank\">Weights & Biases</a> (<a href='https://wandb.me/developer-guide' target=\"_blank\">docs</a>)<br>"
      ],
      "text/plain": [
       "<IPython.core.display.HTML object>"
      ]
     },
     "metadata": {},
     "output_type": "display_data"
    },
    {
     "data": {
      "text/html": [
       " View project at <a href='https://wandb.ai/jandar-tech/ml-ops-practice' target=\"_blank\">https://wandb.ai/jandar-tech/ml-ops-practice</a>"
      ],
      "text/plain": [
       "<IPython.core.display.HTML object>"
      ]
     },
     "metadata": {},
     "output_type": "display_data"
    },
    {
     "data": {
      "text/html": [
       " View run at <a href='https://wandb.ai/jandar-tech/ml-ops-practice/runs/qgrnpnp9' target=\"_blank\">https://wandb.ai/jandar-tech/ml-ops-practice/runs/qgrnpnp9</a>"
      ],
      "text/plain": [
       "<IPython.core.display.HTML object>"
      ]
     },
     "metadata": {},
     "output_type": "display_data"
    },
    {
     "name": "stderr",
     "output_type": "stream",
     "text": [
      "\u001b[34m\u001b[1mwandb\u001b[0m:   1 of 1 files downloaded.  \n"
     ]
    },
    {
     "data": {
      "text/html": [],
      "text/plain": [
       "<IPython.core.display.HTML object>"
      ]
     },
     "metadata": {},
     "output_type": "display_data"
    },
    {
     "data": {
      "text/html": [
       "<br>    <style><br>        .wandb-row {<br>            display: flex;<br>            flex-direction: row;<br>            flex-wrap: wrap;<br>            justify-content: flex-start;<br>            width: 100%;<br>        }<br>        .wandb-col {<br>            display: flex;<br>            flex-direction: column;<br>            flex-basis: 100%;<br>            flex: 1;<br>            padding: 10px;<br>        }<br>    </style><br><div class=\"wandb-row\"><div class=\"wandb-col\"><h3>Run history:</h3><br/><table class=\"wandb\"><tr><td>mae</td><td>▁</td></tr><tr><td>r2</td><td>▁</td></tr><tr><td>rmse</td><td>▁</td></tr></table><br/></div><div class=\"wandb-col\"><h3>Run summary:</h3><br/><table class=\"wandb\"><tr><td>mae</td><td>0.03059</td></tr><tr><td>r2</td><td>0.99594</td></tr><tr><td>rmse</td><td>0.06603</td></tr></table><br/></div></div>"
      ],
      "text/plain": [
       "<IPython.core.display.HTML object>"
      ]
     },
     "metadata": {},
     "output_type": "display_data"
    },
    {
     "data": {
      "text/html": [
       " View run <strong style=\"color:#cdcd00\">random-forest-default-params</strong> at: <a href='https://wandb.ai/jandar-tech/ml-ops-practice/runs/qgrnpnp9' target=\"_blank\">https://wandb.ai/jandar-tech/ml-ops-practice/runs/qgrnpnp9</a><br> View project at: <a href='https://wandb.ai/jandar-tech/ml-ops-practice' target=\"_blank\">https://wandb.ai/jandar-tech/ml-ops-practice</a><br>Synced 5 W&B file(s), 0 media file(s), 0 artifact file(s) and 0 other file(s)"
      ],
      "text/plain": [
       "<IPython.core.display.HTML object>"
      ]
     },
     "metadata": {},
     "output_type": "display_data"
    },
    {
     "data": {
      "text/html": [
       "Find logs at: <code>./wandb/run-20250605_231959-qgrnpnp9/logs</code>"
      ],
      "text/plain": [
       "<IPython.core.display.HTML object>"
      ]
     },
     "metadata": {},
     "output_type": "display_data"
    },
    {
     "data": {
      "text/plain": [
       "('qgrnpnp9', 'random-forest:v5')"
      ]
     },
     "execution_count": 12,
     "metadata": {},
     "output_type": "execute_result"
    }
   ],
   "source": [
    "wandb_run_id, model_artifact_ref = test(\n",
    "    dataset_keys[\"test_x\"],\n",
    "    dataset_keys[\"test_y\"],\n",
    "    wandb_run_id,\n",
    "    model_artifact_ref,\n",
    ")\n",
    "wandb_run_id, model_artifact_ref"
   ]
  },
  {
   "cell_type": "code",
   "execution_count": null,
   "id": "5f6fc584d2f92464",
   "metadata": {},
   "outputs": [],
   "source": []
  }
 ],
 "metadata": {
  "kernelspec": {
   "display_name": "Python 3",
   "language": "python",
   "name": "python3"
  },
  "language_info": {
   "codemirror_mode": {
    "name": "ipython",
    "version": 2
   },
   "file_extension": ".py",
   "mimetype": "text/x-python",
   "name": "python",
   "nbconvert_exporter": "python",
   "pygments_lexer": "ipython2",
   "version": "2.7.6"
  }
 },
 "nbformat": 4,
 "nbformat_minor": 5
}
